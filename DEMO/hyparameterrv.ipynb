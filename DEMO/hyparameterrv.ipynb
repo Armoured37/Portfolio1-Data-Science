{
 "cells": [
  {
   "cell_type": "markdown",
   "id": "08c1b731",
   "metadata": {},
   "source": [
    "Hyperparameter tuning using Randomized earch"
   ]
  },
  {
   "cell_type": "code",
   "execution_count": 1,
   "id": "93aa04e7",
   "metadata": {},
   "outputs": [],
   "source": [
    "import pandas as pd\n",
    "import numpy as np\n",
    "from sklearn.model_selection import RandomizedSearchCV\n",
    "from sklearn.neighbors import KNeighborsClassifier\n",
    "from sklearn.model_selection import train_test_split\n",
    "from sklearn import datasets\n",
    "from sklearn.model_selection import KFold"
   ]
  },
  {
   "cell_type": "code",
   "execution_count": 2,
   "id": "045d4c19",
   "metadata": {},
   "outputs": [],
   "source": [
    "iris = datasets.load_iris()"
   ]
  },
  {
   "cell_type": "code",
   "execution_count": 3,
   "id": "d83028b4",
   "metadata": {},
   "outputs": [
    {
     "data": {
      "text/plain": [
       "array([0, 0, 0, 0, 0, 0, 0, 0, 0, 0, 0, 0, 0, 0, 0, 0, 0, 0, 0, 0, 0, 0,\n",
       "       0, 0, 0, 0, 0, 0, 0, 0, 0, 0, 0, 0, 0, 0, 0, 0, 0, 0, 0, 0, 0, 0,\n",
       "       0, 0, 0, 0, 0, 0, 1, 1, 1, 1, 1, 1, 1, 1, 1, 1, 1, 1, 1, 1, 1, 1,\n",
       "       1, 1, 1, 1, 1, 1, 1, 1, 1, 1, 1, 1, 1, 1, 1, 1, 1, 1, 1, 1, 1, 1,\n",
       "       1, 1, 1, 1, 1, 1, 1, 1, 1, 1, 1, 1, 2, 2, 2, 2, 2, 2, 2, 2, 2, 2,\n",
       "       2, 2, 2, 2, 2, 2, 2, 2, 2, 2, 2, 2, 2, 2, 2, 2, 2, 2, 2, 2, 2, 2,\n",
       "       2, 2, 2, 2, 2, 2, 2, 2, 2, 2, 2, 2, 2, 2, 2, 2, 2, 2])"
      ]
     },
     "execution_count": 3,
     "metadata": {},
     "output_type": "execute_result"
    }
   ],
   "source": [
    "iris.target"
   ]
  },
  {
   "cell_type": "code",
   "execution_count": 22,
   "id": "d515dba2",
   "metadata": {},
   "outputs": [
    {
     "data": {
      "text/plain": [
       "array([[5.1, 3.5, 1.4, 0.2],\n",
       "       [4.9, 3. , 1.4, 0.2],\n",
       "       [4.7, 3.2, 1.3, 0.2],\n",
       "       [4.6, 3.1, 1.5, 0.2]])"
      ]
     },
     "execution_count": 22,
     "metadata": {},
     "output_type": "execute_result"
    }
   ],
   "source": [
    "iris.data[:4]"
   ]
  },
  {
   "cell_type": "code",
   "execution_count": 6,
   "id": "84a9579a",
   "metadata": {},
   "outputs": [],
   "source": [
    "x = iris.data\n",
    "y = iris.target"
   ]
  },
  {
   "cell_type": "code",
   "execution_count": 24,
   "id": "88b59e29",
   "metadata": {},
   "outputs": [],
   "source": [
    "x_train, x_test, y_train, y_test = train_test_split(x, y, test_size = 0.3, random_state = 3)"
   ]
  },
  {
   "cell_type": "code",
   "execution_count": 25,
   "id": "3e656410",
   "metadata": {},
   "outputs": [],
   "source": [
    "clf = KNeighborsClassifier()"
   ]
  },
  {
   "cell_type": "code",
   "execution_count": 26,
   "id": "2801cca4",
   "metadata": {},
   "outputs": [
    {
     "data": {
      "text/plain": [
       "KNeighborsClassifier()"
      ]
     },
     "execution_count": 26,
     "metadata": {},
     "output_type": "execute_result"
    }
   ],
   "source": [
    "clf.fit(x, y)"
   ]
  },
  {
   "cell_type": "code",
   "execution_count": 28,
   "id": "21402690",
   "metadata": {},
   "outputs": [
    {
     "data": {
      "text/plain": [
       "{'algorithm': 'auto',\n",
       " 'leaf_size': 30,\n",
       " 'metric': 'minkowski',\n",
       " 'metric_params': None,\n",
       " 'n_jobs': None,\n",
       " 'n_neighbors': 5,\n",
       " 'p': 2,\n",
       " 'weights': 'uniform'}"
      ]
     },
     "execution_count": 28,
     "metadata": {},
     "output_type": "execute_result"
    }
   ],
   "source": [
    "clf.get_params()"
   ]
  },
  {
   "cell_type": "code",
   "execution_count": 29,
   "id": "be308a4b",
   "metadata": {},
   "outputs": [],
   "source": [
    "algorithm = ['kd_tree', 'ball_tree', 'brute']\n",
    "leaf_size = [10, 15, 30, 40, 50, 70]\n",
    "metric = ['minkowski', 'manhattan', 'euclidean']\n",
    "p = [1, 2, 3, 4, 5]\n",
    "weights = ['uniform', 'distance']"
   ]
  },
  {
   "cell_type": "code",
   "execution_count": 30,
   "id": "6054aa74",
   "metadata": {},
   "outputs": [],
   "source": [
    "params = dict(algorithm = ['kd_tree', 'ball_tree', 'brute'],\n",
    "              leaf_size = [10, 15, 30, 40, 50, 70],\n",
    "              metric = ['minkowski', 'manhattan', 'euclidean'],\n",
    "               p = [1, 2, 3, 4, 5],\n",
    "             weights = ['uniform', 'distance'] )"
   ]
  },
  {
   "cell_type": "code",
   "execution_count": 31,
   "id": "171f4ffb",
   "metadata": {},
   "outputs": [
    {
     "name": "stdout",
     "output_type": "stream",
     "text": [
      "{'algorithm': ['kd_tree', 'ball_tree', 'brute'], 'leaf_size': [10, 15, 30, 40, 50, 70], 'metric': ['minkowski', 'manhattan', 'euclidean'], 'p': [1, 2, 3, 4, 5], 'weights': ['uniform', 'distance']}\n"
     ]
    }
   ],
   "source": [
    "print(params)"
   ]
  },
  {
   "cell_type": "code",
   "execution_count": 38,
   "id": "25fae74f",
   "metadata": {},
   "outputs": [],
   "source": [
    "kf = KFold(n_splits = 5, shuffle = True, random_state = 5)"
   ]
  },
  {
   "cell_type": "code",
   "execution_count": 39,
   "id": "f8025ada",
   "metadata": {},
   "outputs": [
    {
     "name": "stdout",
     "output_type": "stream",
     "text": [
      "Fitting 5 folds for each of 100 candidates, totalling 500 fits\n",
      "[CV] END algorithm=ball_tree, leaf_size=30, metric=minkowski, p=5, weights=distance; total time=   0.0s\n",
      "[CV] END algorithm=ball_tree, leaf_size=30, metric=minkowski, p=5, weights=distance; total time=   0.0s\n",
      "[CV] END algorithm=ball_tree, leaf_size=30, metric=minkowski, p=5, weights=distance; total time=   0.0s\n",
      "[CV] END algorithm=ball_tree, leaf_size=30, metric=minkowski, p=5, weights=distance; total time=   0.0s\n",
      "[CV] END algorithm=ball_tree, leaf_size=30, metric=minkowski, p=5, weights=distance; total time=   0.0s\n",
      "[CV] END algorithm=brute, leaf_size=70, metric=minkowski, p=2, weights=uniform; total time=   0.0s\n",
      "[CV] END algorithm=brute, leaf_size=70, metric=minkowski, p=2, weights=uniform; total time=   0.0s\n",
      "[CV] END algorithm=brute, leaf_size=70, metric=minkowski, p=2, weights=uniform; total time=   0.0s\n",
      "[CV] END algorithm=brute, leaf_size=70, metric=minkowski, p=2, weights=uniform; total time=   0.0s\n",
      "[CV] END algorithm=brute, leaf_size=70, metric=minkowski, p=2, weights=uniform; total time=   0.0s\n",
      "[CV] END algorithm=brute, leaf_size=15, metric=euclidean, p=1, weights=distance; total time=   0.0s\n",
      "[CV] END algorithm=brute, leaf_size=15, metric=euclidean, p=1, weights=distance; total time=   0.0s\n",
      "[CV] END algorithm=brute, leaf_size=15, metric=euclidean, p=1, weights=distance; total time=   0.0s\n",
      "[CV] END algorithm=brute, leaf_size=15, metric=euclidean, p=1, weights=distance; total time=   0.0s\n",
      "[CV] END algorithm=brute, leaf_size=15, metric=euclidean, p=1, weights=distance; total time=   0.0s\n",
      "[CV] END algorithm=kd_tree, leaf_size=30, metric=euclidean, p=1, weights=uniform; total time=   0.0s\n",
      "[CV] END algorithm=kd_tree, leaf_size=30, metric=euclidean, p=1, weights=uniform; total time=   0.0s\n",
      "[CV] END algorithm=kd_tree, leaf_size=30, metric=euclidean, p=1, weights=uniform; total time=   0.0s\n",
      "[CV] END algorithm=kd_tree, leaf_size=30, metric=euclidean, p=1, weights=uniform; total time=   0.0s\n",
      "[CV] END algorithm=kd_tree, leaf_size=30, metric=euclidean, p=1, weights=uniform; total time=   0.0s\n",
      "[CV] END algorithm=ball_tree, leaf_size=70, metric=euclidean, p=1, weights=distance; total time=   0.0s\n",
      "[CV] END algorithm=ball_tree, leaf_size=70, metric=euclidean, p=1, weights=distance; total time=   0.0s\n",
      "[CV] END algorithm=ball_tree, leaf_size=70, metric=euclidean, p=1, weights=distance; total time=   0.0s\n",
      "[CV] END algorithm=ball_tree, leaf_size=70, metric=euclidean, p=1, weights=distance; total time=   0.0s\n",
      "[CV] END algorithm=ball_tree, leaf_size=70, metric=euclidean, p=1, weights=distance; total time=   0.0s\n",
      "[CV] END algorithm=kd_tree, leaf_size=15, metric=euclidean, p=5, weights=distance; total time=   0.0s\n",
      "[CV] END algorithm=kd_tree, leaf_size=15, metric=euclidean, p=5, weights=distance; total time=   0.0s\n",
      "[CV] END algorithm=kd_tree, leaf_size=15, metric=euclidean, p=5, weights=distance; total time=   0.0s\n",
      "[CV] END algorithm=kd_tree, leaf_size=15, metric=euclidean, p=5, weights=distance; total time=   0.0s\n",
      "[CV] END algorithm=kd_tree, leaf_size=15, metric=euclidean, p=5, weights=distance; total time=   0.0s\n",
      "[CV] END algorithm=brute, leaf_size=50, metric=manhattan, p=3, weights=uniform; total time=   0.0s\n",
      "[CV] END algorithm=brute, leaf_size=50, metric=manhattan, p=3, weights=uniform; total time=   0.0s\n",
      "[CV] END algorithm=brute, leaf_size=50, metric=manhattan, p=3, weights=uniform; total time=   0.0s\n",
      "[CV] END algorithm=brute, leaf_size=50, metric=manhattan, p=3, weights=uniform; total time=   0.0s\n",
      "[CV] END algorithm=brute, leaf_size=50, metric=manhattan, p=3, weights=uniform; total time=   0.0s\n",
      "[CV] END algorithm=brute, leaf_size=10, metric=euclidean, p=5, weights=distance; total time=   0.0s\n",
      "[CV] END algorithm=brute, leaf_size=10, metric=euclidean, p=5, weights=distance; total time=   0.0s\n",
      "[CV] END algorithm=brute, leaf_size=10, metric=euclidean, p=5, weights=distance; total time=   0.0s\n",
      "[CV] END algorithm=brute, leaf_size=10, metric=euclidean, p=5, weights=distance; total time=   0.0s\n",
      "[CV] END algorithm=brute, leaf_size=10, metric=euclidean, p=5, weights=distance; total time=   0.0s\n",
      "[CV] END algorithm=ball_tree, leaf_size=15, metric=euclidean, p=1, weights=distance; total time=   0.0s\n",
      "[CV] END algorithm=ball_tree, leaf_size=15, metric=euclidean, p=1, weights=distance; total time=   0.0s\n",
      "[CV] END algorithm=ball_tree, leaf_size=15, metric=euclidean, p=1, weights=distance; total time=   0.0s\n",
      "[CV] END algorithm=ball_tree, leaf_size=15, metric=euclidean, p=1, weights=distance; total time=   0.0s\n",
      "[CV] END algorithm=ball_tree, leaf_size=15, metric=euclidean, p=1, weights=distance; total time=   0.0s\n",
      "[CV] END algorithm=kd_tree, leaf_size=50, metric=minkowski, p=3, weights=distance; total time=   0.0s\n",
      "[CV] END algorithm=kd_tree, leaf_size=50, metric=minkowski, p=3, weights=distance; total time=   0.0s\n",
      "[CV] END algorithm=kd_tree, leaf_size=50, metric=minkowski, p=3, weights=distance; total time=   0.0s\n",
      "[CV] END algorithm=kd_tree, leaf_size=50, metric=minkowski, p=3, weights=distance; total time=   0.0s\n",
      "[CV] END algorithm=kd_tree, leaf_size=50, metric=minkowski, p=3, weights=distance; total time=   0.0s\n",
      "[CV] END algorithm=kd_tree, leaf_size=50, metric=minkowski, p=4, weights=uniform; total time=   0.0s\n",
      "[CV] END algorithm=kd_tree, leaf_size=50, metric=minkowski, p=4, weights=uniform; total time=   0.0s\n",
      "[CV] END algorithm=kd_tree, leaf_size=50, metric=minkowski, p=4, weights=uniform; total time=   0.0s\n",
      "[CV] END algorithm=kd_tree, leaf_size=50, metric=minkowski, p=4, weights=uniform; total time=   0.0s\n",
      "[CV] END algorithm=kd_tree, leaf_size=50, metric=minkowski, p=4, weights=uniform; total time=   0.0s\n",
      "[CV] END algorithm=ball_tree, leaf_size=30, metric=minkowski, p=3, weights=distance; total time=   0.0s\n",
      "[CV] END algorithm=ball_tree, leaf_size=30, metric=minkowski, p=3, weights=distance; total time=   0.0s\n",
      "[CV] END algorithm=ball_tree, leaf_size=30, metric=minkowski, p=3, weights=distance; total time=   0.0s\n",
      "[CV] END algorithm=ball_tree, leaf_size=30, metric=minkowski, p=3, weights=distance; total time=   0.0s\n",
      "[CV] END algorithm=ball_tree, leaf_size=30, metric=minkowski, p=3, weights=distance; total time=   0.0s\n",
      "[CV] END algorithm=kd_tree, leaf_size=40, metric=euclidean, p=4, weights=uniform; total time=   0.0s\n",
      "[CV] END algorithm=kd_tree, leaf_size=40, metric=euclidean, p=4, weights=uniform; total time=   0.0s\n",
      "[CV] END algorithm=kd_tree, leaf_size=40, metric=euclidean, p=4, weights=uniform; total time=   0.0s\n",
      "[CV] END algorithm=kd_tree, leaf_size=40, metric=euclidean, p=4, weights=uniform; total time=   0.0s\n",
      "[CV] END algorithm=kd_tree, leaf_size=40, metric=euclidean, p=4, weights=uniform; total time=   0.0s\n",
      "[CV] END algorithm=ball_tree, leaf_size=70, metric=manhattan, p=4, weights=distance; total time=   0.0s\n",
      "[CV] END algorithm=ball_tree, leaf_size=70, metric=manhattan, p=4, weights=distance; total time=   0.0s\n",
      "[CV] END algorithm=ball_tree, leaf_size=70, metric=manhattan, p=4, weights=distance; total time=   0.0s\n",
      "[CV] END algorithm=ball_tree, leaf_size=70, metric=manhattan, p=4, weights=distance; total time=   0.0s\n",
      "[CV] END algorithm=ball_tree, leaf_size=70, metric=manhattan, p=4, weights=distance; total time=   0.0s\n",
      "[CV] END algorithm=ball_tree, leaf_size=40, metric=manhattan, p=5, weights=distance; total time=   0.0s\n",
      "[CV] END algorithm=ball_tree, leaf_size=40, metric=manhattan, p=5, weights=distance; total time=   0.0s\n",
      "[CV] END algorithm=ball_tree, leaf_size=40, metric=manhattan, p=5, weights=distance; total time=   0.0s\n",
      "[CV] END algorithm=ball_tree, leaf_size=40, metric=manhattan, p=5, weights=distance; total time=   0.0s\n",
      "[CV] END algorithm=ball_tree, leaf_size=40, metric=manhattan, p=5, weights=distance; total time=   0.0s\n",
      "[CV] END algorithm=kd_tree, leaf_size=40, metric=minkowski, p=5, weights=uniform; total time=   0.0s\n",
      "[CV] END algorithm=kd_tree, leaf_size=40, metric=minkowski, p=5, weights=uniform; total time=   0.0s\n",
      "[CV] END algorithm=kd_tree, leaf_size=40, metric=minkowski, p=5, weights=uniform; total time=   0.0s\n",
      "[CV] END algorithm=kd_tree, leaf_size=40, metric=minkowski, p=5, weights=uniform; total time=   0.0s\n",
      "[CV] END algorithm=kd_tree, leaf_size=40, metric=minkowski, p=5, weights=uniform; total time=   0.0s\n",
      "[CV] END algorithm=kd_tree, leaf_size=70, metric=minkowski, p=4, weights=uniform; total time=   0.0s\n",
      "[CV] END algorithm=kd_tree, leaf_size=70, metric=minkowski, p=4, weights=uniform; total time=   0.0s\n",
      "[CV] END algorithm=kd_tree, leaf_size=70, metric=minkowski, p=4, weights=uniform; total time=   0.0s\n",
      "[CV] END algorithm=kd_tree, leaf_size=70, metric=minkowski, p=4, weights=uniform; total time=   0.0s\n",
      "[CV] END algorithm=kd_tree, leaf_size=70, metric=minkowski, p=4, weights=uniform; total time=   0.0s\n",
      "[CV] END algorithm=ball_tree, leaf_size=30, metric=manhattan, p=3, weights=distance; total time=   0.0s\n",
      "[CV] END algorithm=ball_tree, leaf_size=30, metric=manhattan, p=3, weights=distance; total time=   0.0s\n",
      "[CV] END algorithm=ball_tree, leaf_size=30, metric=manhattan, p=3, weights=distance; total time=   0.0s\n",
      "[CV] END algorithm=ball_tree, leaf_size=30, metric=manhattan, p=3, weights=distance; total time=   0.0s\n",
      "[CV] END algorithm=ball_tree, leaf_size=30, metric=manhattan, p=3, weights=distance; total time=   0.0s\n",
      "[CV] END algorithm=brute, leaf_size=40, metric=euclidean, p=1, weights=uniform; total time=   0.0s\n",
      "[CV] END algorithm=brute, leaf_size=40, metric=euclidean, p=1, weights=uniform; total time=   0.0s\n",
      "[CV] END algorithm=brute, leaf_size=40, metric=euclidean, p=1, weights=uniform; total time=   0.0s\n",
      "[CV] END algorithm=brute, leaf_size=40, metric=euclidean, p=1, weights=uniform; total time=   0.0s\n",
      "[CV] END algorithm=brute, leaf_size=40, metric=euclidean, p=1, weights=uniform; total time=   0.0s\n",
      "[CV] END algorithm=ball_tree, leaf_size=10, metric=minkowski, p=4, weights=uniform; total time=   0.0s\n",
      "[CV] END algorithm=ball_tree, leaf_size=10, metric=minkowski, p=4, weights=uniform; total time=   0.0s\n"
     ]
    },
    {
     "name": "stdout",
     "output_type": "stream",
     "text": [
      "[CV] END algorithm=ball_tree, leaf_size=10, metric=minkowski, p=4, weights=uniform; total time=   0.0s\n",
      "[CV] END algorithm=ball_tree, leaf_size=10, metric=minkowski, p=4, weights=uniform; total time=   0.0s\n",
      "[CV] END algorithm=ball_tree, leaf_size=10, metric=minkowski, p=4, weights=uniform; total time=   0.0s\n",
      "[CV] END algorithm=ball_tree, leaf_size=30, metric=minkowski, p=4, weights=uniform; total time=   0.0s\n",
      "[CV] END algorithm=ball_tree, leaf_size=30, metric=minkowski, p=4, weights=uniform; total time=   0.0s\n",
      "[CV] END algorithm=ball_tree, leaf_size=30, metric=minkowski, p=4, weights=uniform; total time=   0.0s\n",
      "[CV] END algorithm=ball_tree, leaf_size=30, metric=minkowski, p=4, weights=uniform; total time=   0.0s\n",
      "[CV] END algorithm=ball_tree, leaf_size=30, metric=minkowski, p=4, weights=uniform; total time=   0.0s\n",
      "[CV] END algorithm=kd_tree, leaf_size=10, metric=manhattan, p=4, weights=distance; total time=   0.0s\n",
      "[CV] END algorithm=kd_tree, leaf_size=10, metric=manhattan, p=4, weights=distance; total time=   0.0s\n",
      "[CV] END algorithm=kd_tree, leaf_size=10, metric=manhattan, p=4, weights=distance; total time=   0.0s\n",
      "[CV] END algorithm=kd_tree, leaf_size=10, metric=manhattan, p=4, weights=distance; total time=   0.0s\n",
      "[CV] END algorithm=kd_tree, leaf_size=10, metric=manhattan, p=4, weights=distance; total time=   0.0s\n",
      "[CV] END algorithm=brute, leaf_size=15, metric=minkowski, p=5, weights=distance; total time=   0.0s\n",
      "[CV] END algorithm=brute, leaf_size=15, metric=minkowski, p=5, weights=distance; total time=   0.0s\n",
      "[CV] END algorithm=brute, leaf_size=15, metric=minkowski, p=5, weights=distance; total time=   0.0s\n",
      "[CV] END algorithm=brute, leaf_size=15, metric=minkowski, p=5, weights=distance; total time=   0.0s\n",
      "[CV] END algorithm=brute, leaf_size=15, metric=minkowski, p=5, weights=distance; total time=   0.0s\n",
      "[CV] END algorithm=kd_tree, leaf_size=70, metric=euclidean, p=4, weights=distance; total time=   0.0s\n",
      "[CV] END algorithm=kd_tree, leaf_size=70, metric=euclidean, p=4, weights=distance; total time=   0.0s\n",
      "[CV] END algorithm=kd_tree, leaf_size=70, metric=euclidean, p=4, weights=distance; total time=   0.0s\n",
      "[CV] END algorithm=kd_tree, leaf_size=70, metric=euclidean, p=4, weights=distance; total time=   0.0s\n",
      "[CV] END algorithm=kd_tree, leaf_size=70, metric=euclidean, p=4, weights=distance; total time=   0.0s\n",
      "[CV] END algorithm=kd_tree, leaf_size=10, metric=euclidean, p=1, weights=uniform; total time=   0.0s\n",
      "[CV] END algorithm=kd_tree, leaf_size=10, metric=euclidean, p=1, weights=uniform; total time=   0.0s\n",
      "[CV] END algorithm=kd_tree, leaf_size=10, metric=euclidean, p=1, weights=uniform; total time=   0.0s\n",
      "[CV] END algorithm=kd_tree, leaf_size=10, metric=euclidean, p=1, weights=uniform; total time=   0.0s\n",
      "[CV] END algorithm=kd_tree, leaf_size=10, metric=euclidean, p=1, weights=uniform; total time=   0.0s\n",
      "[CV] END algorithm=brute, leaf_size=50, metric=euclidean, p=4, weights=distance; total time=   0.0s\n",
      "[CV] END algorithm=brute, leaf_size=50, metric=euclidean, p=4, weights=distance; total time=   0.0s\n",
      "[CV] END algorithm=brute, leaf_size=50, metric=euclidean, p=4, weights=distance; total time=   0.0s\n",
      "[CV] END algorithm=brute, leaf_size=50, metric=euclidean, p=4, weights=distance; total time=   0.0s\n",
      "[CV] END algorithm=brute, leaf_size=50, metric=euclidean, p=4, weights=distance; total time=   0.0s\n",
      "[CV] END algorithm=kd_tree, leaf_size=40, metric=euclidean, p=1, weights=distance; total time=   0.0s\n",
      "[CV] END algorithm=kd_tree, leaf_size=40, metric=euclidean, p=1, weights=distance; total time=   0.0s\n",
      "[CV] END algorithm=kd_tree, leaf_size=40, metric=euclidean, p=1, weights=distance; total time=   0.0s\n",
      "[CV] END algorithm=kd_tree, leaf_size=40, metric=euclidean, p=1, weights=distance; total time=   0.0s\n",
      "[CV] END algorithm=kd_tree, leaf_size=40, metric=euclidean, p=1, weights=distance; total time=   0.0s\n",
      "[CV] END algorithm=brute, leaf_size=10, metric=minkowski, p=2, weights=distance; total time=   0.0s\n",
      "[CV] END algorithm=brute, leaf_size=10, metric=minkowski, p=2, weights=distance; total time=   0.0s\n",
      "[CV] END algorithm=brute, leaf_size=10, metric=minkowski, p=2, weights=distance; total time=   0.0s\n",
      "[CV] END algorithm=brute, leaf_size=10, metric=minkowski, p=2, weights=distance; total time=   0.0s\n",
      "[CV] END algorithm=brute, leaf_size=10, metric=minkowski, p=2, weights=distance; total time=   0.0s\n",
      "[CV] END algorithm=kd_tree, leaf_size=15, metric=manhattan, p=4, weights=uniform; total time=   0.0s\n",
      "[CV] END algorithm=kd_tree, leaf_size=15, metric=manhattan, p=4, weights=uniform; total time=   0.0s\n",
      "[CV] END algorithm=kd_tree, leaf_size=15, metric=manhattan, p=4, weights=uniform; total time=   0.0s\n",
      "[CV] END algorithm=kd_tree, leaf_size=15, metric=manhattan, p=4, weights=uniform; total time=   0.0s\n",
      "[CV] END algorithm=kd_tree, leaf_size=15, metric=manhattan, p=4, weights=uniform; total time=   0.0s\n",
      "[CV] END algorithm=ball_tree, leaf_size=15, metric=manhattan, p=4, weights=uniform; total time=   0.0s\n",
      "[CV] END algorithm=ball_tree, leaf_size=15, metric=manhattan, p=4, weights=uniform; total time=   0.0s\n",
      "[CV] END algorithm=ball_tree, leaf_size=15, metric=manhattan, p=4, weights=uniform; total time=   0.0s\n",
      "[CV] END algorithm=ball_tree, leaf_size=15, metric=manhattan, p=4, weights=uniform; total time=   0.0s\n",
      "[CV] END algorithm=ball_tree, leaf_size=15, metric=manhattan, p=4, weights=uniform; total time=   0.0s\n",
      "[CV] END algorithm=ball_tree, leaf_size=40, metric=minkowski, p=4, weights=distance; total time=   0.0s\n",
      "[CV] END algorithm=ball_tree, leaf_size=40, metric=minkowski, p=4, weights=distance; total time=   0.0s\n",
      "[CV] END algorithm=ball_tree, leaf_size=40, metric=minkowski, p=4, weights=distance; total time=   0.0s\n",
      "[CV] END algorithm=ball_tree, leaf_size=40, metric=minkowski, p=4, weights=distance; total time=   0.0s\n",
      "[CV] END algorithm=ball_tree, leaf_size=40, metric=minkowski, p=4, weights=distance; total time=   0.0s\n",
      "[CV] END algorithm=brute, leaf_size=40, metric=manhattan, p=4, weights=uniform; total time=   0.0s\n",
      "[CV] END algorithm=brute, leaf_size=40, metric=manhattan, p=4, weights=uniform; total time=   0.0s\n",
      "[CV] END algorithm=brute, leaf_size=40, metric=manhattan, p=4, weights=uniform; total time=   0.0s\n",
      "[CV] END algorithm=brute, leaf_size=40, metric=manhattan, p=4, weights=uniform; total time=   0.0s\n",
      "[CV] END algorithm=brute, leaf_size=40, metric=manhattan, p=4, weights=uniform; total time=   0.0s\n",
      "[CV] END algorithm=brute, leaf_size=30, metric=minkowski, p=1, weights=distance; total time=   0.0s\n",
      "[CV] END algorithm=brute, leaf_size=30, metric=minkowski, p=1, weights=distance; total time=   0.0s\n",
      "[CV] END algorithm=brute, leaf_size=30, metric=minkowski, p=1, weights=distance; total time=   0.0s\n",
      "[CV] END algorithm=brute, leaf_size=30, metric=minkowski, p=1, weights=distance; total time=   0.0s\n",
      "[CV] END algorithm=brute, leaf_size=30, metric=minkowski, p=1, weights=distance; total time=   0.0s\n",
      "[CV] END algorithm=ball_tree, leaf_size=15, metric=manhattan, p=3, weights=uniform; total time=   0.0s\n",
      "[CV] END algorithm=ball_tree, leaf_size=15, metric=manhattan, p=3, weights=uniform; total time=   0.0s\n",
      "[CV] END algorithm=ball_tree, leaf_size=15, metric=manhattan, p=3, weights=uniform; total time=   0.0s\n",
      "[CV] END algorithm=ball_tree, leaf_size=15, metric=manhattan, p=3, weights=uniform; total time=   0.0s\n",
      "[CV] END algorithm=ball_tree, leaf_size=15, metric=manhattan, p=3, weights=uniform; total time=   0.0s\n",
      "[CV] END algorithm=kd_tree, leaf_size=10, metric=manhattan, p=4, weights=uniform; total time=   0.0s\n",
      "[CV] END algorithm=kd_tree, leaf_size=10, metric=manhattan, p=4, weights=uniform; total time=   0.0s\n",
      "[CV] END algorithm=kd_tree, leaf_size=10, metric=manhattan, p=4, weights=uniform; total time=   0.0s\n",
      "[CV] END algorithm=kd_tree, leaf_size=10, metric=manhattan, p=4, weights=uniform; total time=   0.0s\n",
      "[CV] END algorithm=kd_tree, leaf_size=10, metric=manhattan, p=4, weights=uniform; total time=   0.0s\n",
      "[CV] END algorithm=brute, leaf_size=30, metric=manhattan, p=2, weights=distance; total time=   0.0s\n",
      "[CV] END algorithm=brute, leaf_size=30, metric=manhattan, p=2, weights=distance; total time=   0.0s\n",
      "[CV] END algorithm=brute, leaf_size=30, metric=manhattan, p=2, weights=distance; total time=   0.0s\n",
      "[CV] END algorithm=brute, leaf_size=30, metric=manhattan, p=2, weights=distance; total time=   0.0s\n",
      "[CV] END algorithm=brute, leaf_size=30, metric=manhattan, p=2, weights=distance; total time=   0.0s\n",
      "[CV] END algorithm=brute, leaf_size=50, metric=manhattan, p=3, weights=distance; total time=   0.0s\n",
      "[CV] END algorithm=brute, leaf_size=50, metric=manhattan, p=3, weights=distance; total time=   0.0s\n",
      "[CV] END algorithm=brute, leaf_size=50, metric=manhattan, p=3, weights=distance; total time=   0.0s\n",
      "[CV] END algorithm=brute, leaf_size=50, metric=manhattan, p=3, weights=distance; total time=   0.0s\n",
      "[CV] END algorithm=brute, leaf_size=50, metric=manhattan, p=3, weights=distance; total time=   0.0s\n",
      "[CV] END algorithm=brute, leaf_size=10, metric=manhattan, p=1, weights=uniform; total time=   0.0s\n",
      "[CV] END algorithm=brute, leaf_size=10, metric=manhattan, p=1, weights=uniform; total time=   0.0s\n",
      "[CV] END algorithm=brute, leaf_size=10, metric=manhattan, p=1, weights=uniform; total time=   0.0s\n",
      "[CV] END algorithm=brute, leaf_size=10, metric=manhattan, p=1, weights=uniform; total time=   0.0s\n",
      "[CV] END algorithm=brute, leaf_size=10, metric=manhattan, p=1, weights=uniform; total time=   0.0s\n",
      "[CV] END algorithm=brute, leaf_size=70, metric=manhattan, p=3, weights=distance; total time=   0.0s\n",
      "[CV] END algorithm=brute, leaf_size=70, metric=manhattan, p=3, weights=distance; total time=   0.0s\n",
      "[CV] END algorithm=brute, leaf_size=70, metric=manhattan, p=3, weights=distance; total time=   0.0s\n",
      "[CV] END algorithm=brute, leaf_size=70, metric=manhattan, p=3, weights=distance; total time=   0.0s\n",
      "[CV] END algorithm=brute, leaf_size=70, metric=manhattan, p=3, weights=distance; total time=   0.0s\n",
      "[CV] END algorithm=kd_tree, leaf_size=40, metric=manhattan, p=1, weights=distance; total time=   0.0s\n",
      "[CV] END algorithm=kd_tree, leaf_size=40, metric=manhattan, p=1, weights=distance; total time=   0.0s\n",
      "[CV] END algorithm=kd_tree, leaf_size=40, metric=manhattan, p=1, weights=distance; total time=   0.0s\n"
     ]
    },
    {
     "name": "stdout",
     "output_type": "stream",
     "text": [
      "[CV] END algorithm=kd_tree, leaf_size=40, metric=manhattan, p=1, weights=distance; total time=   0.0s\n",
      "[CV] END algorithm=kd_tree, leaf_size=40, metric=manhattan, p=1, weights=distance; total time=   0.0s\n",
      "[CV] END algorithm=brute, leaf_size=15, metric=euclidean, p=5, weights=distance; total time=   0.0s\n",
      "[CV] END algorithm=brute, leaf_size=15, metric=euclidean, p=5, weights=distance; total time=   0.0s\n",
      "[CV] END algorithm=brute, leaf_size=15, metric=euclidean, p=5, weights=distance; total time=   0.0s\n",
      "[CV] END algorithm=brute, leaf_size=15, metric=euclidean, p=5, weights=distance; total time=   0.0s\n",
      "[CV] END algorithm=brute, leaf_size=15, metric=euclidean, p=5, weights=distance; total time=   0.0s\n",
      "[CV] END algorithm=kd_tree, leaf_size=30, metric=euclidean, p=5, weights=distance; total time=   0.0s\n",
      "[CV] END algorithm=kd_tree, leaf_size=30, metric=euclidean, p=5, weights=distance; total time=   0.0s\n",
      "[CV] END algorithm=kd_tree, leaf_size=30, metric=euclidean, p=5, weights=distance; total time=   0.0s\n",
      "[CV] END algorithm=kd_tree, leaf_size=30, metric=euclidean, p=5, weights=distance; total time=   0.0s\n",
      "[CV] END algorithm=kd_tree, leaf_size=30, metric=euclidean, p=5, weights=distance; total time=   0.0s\n",
      "[CV] END algorithm=ball_tree, leaf_size=15, metric=euclidean, p=4, weights=uniform; total time=   0.0s\n",
      "[CV] END algorithm=ball_tree, leaf_size=15, metric=euclidean, p=4, weights=uniform; total time=   0.0s\n",
      "[CV] END algorithm=ball_tree, leaf_size=15, metric=euclidean, p=4, weights=uniform; total time=   0.0s\n",
      "[CV] END algorithm=ball_tree, leaf_size=15, metric=euclidean, p=4, weights=uniform; total time=   0.0s\n",
      "[CV] END algorithm=ball_tree, leaf_size=15, metric=euclidean, p=4, weights=uniform; total time=   0.0s\n",
      "[CV] END algorithm=kd_tree, leaf_size=40, metric=minkowski, p=1, weights=distance; total time=   0.0s\n",
      "[CV] END algorithm=kd_tree, leaf_size=40, metric=minkowski, p=1, weights=distance; total time=   0.0s\n",
      "[CV] END algorithm=kd_tree, leaf_size=40, metric=minkowski, p=1, weights=distance; total time=   0.0s\n",
      "[CV] END algorithm=kd_tree, leaf_size=40, metric=minkowski, p=1, weights=distance; total time=   0.0s\n",
      "[CV] END algorithm=kd_tree, leaf_size=40, metric=minkowski, p=1, weights=distance; total time=   0.0s\n",
      "[CV] END algorithm=kd_tree, leaf_size=50, metric=euclidean, p=3, weights=distance; total time=   0.0s\n",
      "[CV] END algorithm=kd_tree, leaf_size=50, metric=euclidean, p=3, weights=distance; total time=   0.0s\n",
      "[CV] END algorithm=kd_tree, leaf_size=50, metric=euclidean, p=3, weights=distance; total time=   0.0s\n",
      "[CV] END algorithm=kd_tree, leaf_size=50, metric=euclidean, p=3, weights=distance; total time=   0.0s\n",
      "[CV] END algorithm=kd_tree, leaf_size=50, metric=euclidean, p=3, weights=distance; total time=   0.0s\n",
      "[CV] END algorithm=brute, leaf_size=70, metric=minkowski, p=3, weights=uniform; total time=   0.0s\n",
      "[CV] END algorithm=brute, leaf_size=70, metric=minkowski, p=3, weights=uniform; total time=   0.0s\n",
      "[CV] END algorithm=brute, leaf_size=70, metric=minkowski, p=3, weights=uniform; total time=   0.0s\n",
      "[CV] END algorithm=brute, leaf_size=70, metric=minkowski, p=3, weights=uniform; total time=   0.0s\n",
      "[CV] END algorithm=brute, leaf_size=70, metric=minkowski, p=3, weights=uniform; total time=   0.0s\n",
      "[CV] END algorithm=ball_tree, leaf_size=10, metric=manhattan, p=1, weights=distance; total time=   0.0s\n",
      "[CV] END algorithm=ball_tree, leaf_size=10, metric=manhattan, p=1, weights=distance; total time=   0.0s\n",
      "[CV] END algorithm=ball_tree, leaf_size=10, metric=manhattan, p=1, weights=distance; total time=   0.0s\n",
      "[CV] END algorithm=ball_tree, leaf_size=10, metric=manhattan, p=1, weights=distance; total time=   0.0s\n",
      "[CV] END algorithm=ball_tree, leaf_size=10, metric=manhattan, p=1, weights=distance; total time=   0.0s\n",
      "[CV] END algorithm=kd_tree, leaf_size=70, metric=minkowski, p=5, weights=distance; total time=   0.0s\n",
      "[CV] END algorithm=kd_tree, leaf_size=70, metric=minkowski, p=5, weights=distance; total time=   0.0s\n",
      "[CV] END algorithm=kd_tree, leaf_size=70, metric=minkowski, p=5, weights=distance; total time=   0.0s\n",
      "[CV] END algorithm=kd_tree, leaf_size=70, metric=minkowski, p=5, weights=distance; total time=   0.0s\n",
      "[CV] END algorithm=kd_tree, leaf_size=70, metric=minkowski, p=5, weights=distance; total time=   0.0s\n",
      "[CV] END algorithm=brute, leaf_size=15, metric=manhattan, p=4, weights=uniform; total time=   0.0s\n",
      "[CV] END algorithm=brute, leaf_size=15, metric=manhattan, p=4, weights=uniform; total time=   0.0s\n",
      "[CV] END algorithm=brute, leaf_size=15, metric=manhattan, p=4, weights=uniform; total time=   0.0s\n",
      "[CV] END algorithm=brute, leaf_size=15, metric=manhattan, p=4, weights=uniform; total time=   0.0s\n",
      "[CV] END algorithm=brute, leaf_size=15, metric=manhattan, p=4, weights=uniform; total time=   0.0s\n",
      "[CV] END algorithm=ball_tree, leaf_size=50, metric=minkowski, p=4, weights=distance; total time=   0.0s\n",
      "[CV] END algorithm=ball_tree, leaf_size=50, metric=minkowski, p=4, weights=distance; total time=   0.0s\n",
      "[CV] END algorithm=ball_tree, leaf_size=50, metric=minkowski, p=4, weights=distance; total time=   0.0s\n",
      "[CV] END algorithm=ball_tree, leaf_size=50, metric=minkowski, p=4, weights=distance; total time=   0.0s\n",
      "[CV] END algorithm=ball_tree, leaf_size=50, metric=minkowski, p=4, weights=distance; total time=   0.0s\n",
      "[CV] END algorithm=kd_tree, leaf_size=15, metric=minkowski, p=1, weights=distance; total time=   0.0s\n",
      "[CV] END algorithm=kd_tree, leaf_size=15, metric=minkowski, p=1, weights=distance; total time=   0.0s\n",
      "[CV] END algorithm=kd_tree, leaf_size=15, metric=minkowski, p=1, weights=distance; total time=   0.0s\n",
      "[CV] END algorithm=kd_tree, leaf_size=15, metric=minkowski, p=1, weights=distance; total time=   0.0s\n",
      "[CV] END algorithm=kd_tree, leaf_size=15, metric=minkowski, p=1, weights=distance; total time=   0.0s\n",
      "[CV] END algorithm=kd_tree, leaf_size=15, metric=manhattan, p=5, weights=uniform; total time=   0.0s\n",
      "[CV] END algorithm=kd_tree, leaf_size=15, metric=manhattan, p=5, weights=uniform; total time=   0.0s\n",
      "[CV] END algorithm=kd_tree, leaf_size=15, metric=manhattan, p=5, weights=uniform; total time=   0.0s\n",
      "[CV] END algorithm=kd_tree, leaf_size=15, metric=manhattan, p=5, weights=uniform; total time=   0.0s\n",
      "[CV] END algorithm=kd_tree, leaf_size=15, metric=manhattan, p=5, weights=uniform; total time=   0.0s\n",
      "[CV] END algorithm=ball_tree, leaf_size=30, metric=euclidean, p=3, weights=distance; total time=   0.0s\n",
      "[CV] END algorithm=ball_tree, leaf_size=30, metric=euclidean, p=3, weights=distance; total time=   0.0s\n",
      "[CV] END algorithm=ball_tree, leaf_size=30, metric=euclidean, p=3, weights=distance; total time=   0.0s\n",
      "[CV] END algorithm=ball_tree, leaf_size=30, metric=euclidean, p=3, weights=distance; total time=   0.0s\n",
      "[CV] END algorithm=ball_tree, leaf_size=30, metric=euclidean, p=3, weights=distance; total time=   0.0s\n",
      "[CV] END algorithm=kd_tree, leaf_size=30, metric=manhattan, p=2, weights=distance; total time=   0.0s\n",
      "[CV] END algorithm=kd_tree, leaf_size=30, metric=manhattan, p=2, weights=distance; total time=   0.0s\n",
      "[CV] END algorithm=kd_tree, leaf_size=30, metric=manhattan, p=2, weights=distance; total time=   0.0s\n",
      "[CV] END algorithm=kd_tree, leaf_size=30, metric=manhattan, p=2, weights=distance; total time=   0.0s\n",
      "[CV] END algorithm=kd_tree, leaf_size=30, metric=manhattan, p=2, weights=distance; total time=   0.0s\n",
      "[CV] END algorithm=ball_tree, leaf_size=30, metric=euclidean, p=3, weights=uniform; total time=   0.0s\n",
      "[CV] END algorithm=ball_tree, leaf_size=30, metric=euclidean, p=3, weights=uniform; total time=   0.0s\n",
      "[CV] END algorithm=ball_tree, leaf_size=30, metric=euclidean, p=3, weights=uniform; total time=   0.0s\n",
      "[CV] END algorithm=ball_tree, leaf_size=30, metric=euclidean, p=3, weights=uniform; total time=   0.0s\n",
      "[CV] END algorithm=ball_tree, leaf_size=30, metric=euclidean, p=3, weights=uniform; total time=   0.0s\n",
      "[CV] END algorithm=brute, leaf_size=10, metric=euclidean, p=4, weights=uniform; total time=   0.0s\n",
      "[CV] END algorithm=brute, leaf_size=10, metric=euclidean, p=4, weights=uniform; total time=   0.0s\n",
      "[CV] END algorithm=brute, leaf_size=10, metric=euclidean, p=4, weights=uniform; total time=   0.0s\n",
      "[CV] END algorithm=brute, leaf_size=10, metric=euclidean, p=4, weights=uniform; total time=   0.0s\n",
      "[CV] END algorithm=brute, leaf_size=10, metric=euclidean, p=4, weights=uniform; total time=   0.0s\n"
     ]
    },
    {
     "name": "stdout",
     "output_type": "stream",
     "text": [
      "[CV] END algorithm=brute, leaf_size=30, metric=euclidean, p=5, weights=uniform; total time=   0.0s\n",
      "[CV] END algorithm=brute, leaf_size=30, metric=euclidean, p=5, weights=uniform; total time=   0.0s\n",
      "[CV] END algorithm=brute, leaf_size=30, metric=euclidean, p=5, weights=uniform; total time=   0.0s\n",
      "[CV] END algorithm=brute, leaf_size=30, metric=euclidean, p=5, weights=uniform; total time=   0.0s\n",
      "[CV] END algorithm=brute, leaf_size=30, metric=euclidean, p=5, weights=uniform; total time=   0.0s\n",
      "[CV] END algorithm=kd_tree, leaf_size=15, metric=manhattan, p=3, weights=distance; total time=   0.0s\n",
      "[CV] END algorithm=kd_tree, leaf_size=15, metric=manhattan, p=3, weights=distance; total time=   0.0s\n",
      "[CV] END algorithm=kd_tree, leaf_size=15, metric=manhattan, p=3, weights=distance; total time=   0.0s\n",
      "[CV] END algorithm=kd_tree, leaf_size=15, metric=manhattan, p=3, weights=distance; total time=   0.0s\n",
      "[CV] END algorithm=kd_tree, leaf_size=15, metric=manhattan, p=3, weights=distance; total time=   0.0s\n",
      "[CV] END algorithm=brute, leaf_size=15, metric=euclidean, p=4, weights=uniform; total time=   0.0s\n",
      "[CV] END algorithm=brute, leaf_size=15, metric=euclidean, p=4, weights=uniform; total time=   0.0s\n",
      "[CV] END algorithm=brute, leaf_size=15, metric=euclidean, p=4, weights=uniform; total time=   0.0s\n",
      "[CV] END algorithm=brute, leaf_size=15, metric=euclidean, p=4, weights=uniform; total time=   0.0s\n",
      "[CV] END algorithm=brute, leaf_size=15, metric=euclidean, p=4, weights=uniform; total time=   0.0s\n",
      "[CV] END algorithm=brute, leaf_size=10, metric=euclidean, p=4, weights=distance; total time=   0.0s\n",
      "[CV] END algorithm=brute, leaf_size=10, metric=euclidean, p=4, weights=distance; total time=   0.0s\n",
      "[CV] END algorithm=brute, leaf_size=10, metric=euclidean, p=4, weights=distance; total time=   0.0s\n",
      "[CV] END algorithm=brute, leaf_size=10, metric=euclidean, p=4, weights=distance; total time=   0.0s\n",
      "[CV] END algorithm=brute, leaf_size=10, metric=euclidean, p=4, weights=distance; total time=   0.0s\n",
      "[CV] END algorithm=brute, leaf_size=70, metric=minkowski, p=3, weights=distance; total time=   0.0s\n",
      "[CV] END algorithm=brute, leaf_size=70, metric=minkowski, p=3, weights=distance; total time=   0.0s\n",
      "[CV] END algorithm=brute, leaf_size=70, metric=minkowski, p=3, weights=distance; total time=   0.0s\n",
      "[CV] END algorithm=brute, leaf_size=70, metric=minkowski, p=3, weights=distance; total time=   0.0s\n",
      "[CV] END algorithm=brute, leaf_size=70, metric=minkowski, p=3, weights=distance; total time=   0.0s\n",
      "[CV] END algorithm=ball_tree, leaf_size=50, metric=manhattan, p=4, weights=uniform; total time=   0.0s\n",
      "[CV] END algorithm=ball_tree, leaf_size=50, metric=manhattan, p=4, weights=uniform; total time=   0.0s\n",
      "[CV] END algorithm=ball_tree, leaf_size=50, metric=manhattan, p=4, weights=uniform; total time=   0.0s\n",
      "[CV] END algorithm=ball_tree, leaf_size=50, metric=manhattan, p=4, weights=uniform; total time=   0.0s\n",
      "[CV] END algorithm=ball_tree, leaf_size=50, metric=manhattan, p=4, weights=uniform; total time=   0.0s\n",
      "[CV] END algorithm=brute, leaf_size=40, metric=manhattan, p=5, weights=distance; total time=   0.0s\n",
      "[CV] END algorithm=brute, leaf_size=40, metric=manhattan, p=5, weights=distance; total time=   0.0s\n",
      "[CV] END algorithm=brute, leaf_size=40, metric=manhattan, p=5, weights=distance; total time=   0.0s\n",
      "[CV] END algorithm=brute, leaf_size=40, metric=manhattan, p=5, weights=distance; total time=   0.0s\n",
      "[CV] END algorithm=brute, leaf_size=40, metric=manhattan, p=5, weights=distance; total time=   0.0s\n",
      "[CV] END algorithm=kd_tree, leaf_size=30, metric=minkowski, p=2, weights=uniform; total time=   0.0s\n",
      "[CV] END algorithm=kd_tree, leaf_size=30, metric=minkowski, p=2, weights=uniform; total time=   0.0s\n",
      "[CV] END algorithm=kd_tree, leaf_size=30, metric=minkowski, p=2, weights=uniform; total time=   0.0s\n",
      "[CV] END algorithm=kd_tree, leaf_size=30, metric=minkowski, p=2, weights=uniform; total time=   0.0s\n",
      "[CV] END algorithm=kd_tree, leaf_size=30, metric=minkowski, p=2, weights=uniform; total time=   0.0s\n",
      "[CV] END algorithm=kd_tree, leaf_size=15, metric=euclidean, p=2, weights=distance; total time=   0.0s\n",
      "[CV] END algorithm=kd_tree, leaf_size=15, metric=euclidean, p=2, weights=distance; total time=   0.0s\n",
      "[CV] END algorithm=kd_tree, leaf_size=15, metric=euclidean, p=2, weights=distance; total time=   0.0s\n",
      "[CV] END algorithm=kd_tree, leaf_size=15, metric=euclidean, p=2, weights=distance; total time=   0.0s\n",
      "[CV] END algorithm=kd_tree, leaf_size=15, metric=euclidean, p=2, weights=distance; total time=   0.0s\n",
      "[CV] END algorithm=ball_tree, leaf_size=40, metric=manhattan, p=1, weights=distance; total time=   0.0s\n",
      "[CV] END algorithm=ball_tree, leaf_size=40, metric=manhattan, p=1, weights=distance; total time=   0.0s\n",
      "[CV] END algorithm=ball_tree, leaf_size=40, metric=manhattan, p=1, weights=distance; total time=   0.0s\n",
      "[CV] END algorithm=ball_tree, leaf_size=40, metric=manhattan, p=1, weights=distance; total time=   0.0s\n",
      "[CV] END algorithm=ball_tree, leaf_size=40, metric=manhattan, p=1, weights=distance; total time=   0.0s\n",
      "[CV] END algorithm=brute, leaf_size=50, metric=minkowski, p=5, weights=distance; total time=   0.0s\n",
      "[CV] END algorithm=brute, leaf_size=50, metric=minkowski, p=5, weights=distance; total time=   0.0s\n",
      "[CV] END algorithm=brute, leaf_size=50, metric=minkowski, p=5, weights=distance; total time=   0.0s\n",
      "[CV] END algorithm=brute, leaf_size=50, metric=minkowski, p=5, weights=distance; total time=   0.0s\n",
      "[CV] END algorithm=brute, leaf_size=50, metric=minkowski, p=5, weights=distance; total time=   0.0s\n",
      "[CV] END algorithm=kd_tree, leaf_size=40, metric=euclidean, p=2, weights=uniform; total time=   0.0s\n",
      "[CV] END algorithm=kd_tree, leaf_size=40, metric=euclidean, p=2, weights=uniform; total time=   0.0s\n",
      "[CV] END algorithm=kd_tree, leaf_size=40, metric=euclidean, p=2, weights=uniform; total time=   0.0s\n",
      "[CV] END algorithm=kd_tree, leaf_size=40, metric=euclidean, p=2, weights=uniform; total time=   0.0s\n",
      "[CV] END algorithm=kd_tree, leaf_size=40, metric=euclidean, p=2, weights=uniform; total time=   0.0s\n",
      "[CV] END algorithm=kd_tree, leaf_size=40, metric=euclidean, p=3, weights=distance; total time=   0.0s\n",
      "[CV] END algorithm=kd_tree, leaf_size=40, metric=euclidean, p=3, weights=distance; total time=   0.0s\n",
      "[CV] END algorithm=kd_tree, leaf_size=40, metric=euclidean, p=3, weights=distance; total time=   0.0s\n",
      "[CV] END algorithm=kd_tree, leaf_size=40, metric=euclidean, p=3, weights=distance; total time=   0.0s\n",
      "[CV] END algorithm=kd_tree, leaf_size=40, metric=euclidean, p=3, weights=distance; total time=   0.0s\n",
      "[CV] END algorithm=ball_tree, leaf_size=15, metric=minkowski, p=5, weights=distance; total time=   0.0s\n",
      "[CV] END algorithm=ball_tree, leaf_size=15, metric=minkowski, p=5, weights=distance; total time=   0.0s\n",
      "[CV] END algorithm=ball_tree, leaf_size=15, metric=minkowski, p=5, weights=distance; total time=   0.0s\n",
      "[CV] END algorithm=ball_tree, leaf_size=15, metric=minkowski, p=5, weights=distance; total time=   0.0s\n",
      "[CV] END algorithm=ball_tree, leaf_size=15, metric=minkowski, p=5, weights=distance; total time=   0.0s\n",
      "[CV] END algorithm=kd_tree, leaf_size=40, metric=manhattan, p=5, weights=uniform; total time=   0.0s\n",
      "[CV] END algorithm=kd_tree, leaf_size=40, metric=manhattan, p=5, weights=uniform; total time=   0.0s\n",
      "[CV] END algorithm=kd_tree, leaf_size=40, metric=manhattan, p=5, weights=uniform; total time=   0.0s\n",
      "[CV] END algorithm=kd_tree, leaf_size=40, metric=manhattan, p=5, weights=uniform; total time=   0.0s\n",
      "[CV] END algorithm=kd_tree, leaf_size=40, metric=manhattan, p=5, weights=uniform; total time=   0.0s\n",
      "[CV] END algorithm=kd_tree, leaf_size=50, metric=manhattan, p=4, weights=uniform; total time=   0.0s\n",
      "[CV] END algorithm=kd_tree, leaf_size=50, metric=manhattan, p=4, weights=uniform; total time=   0.0s\n",
      "[CV] END algorithm=kd_tree, leaf_size=50, metric=manhattan, p=4, weights=uniform; total time=   0.0s\n",
      "[CV] END algorithm=kd_tree, leaf_size=50, metric=manhattan, p=4, weights=uniform; total time=   0.0s\n",
      "[CV] END algorithm=kd_tree, leaf_size=50, metric=manhattan, p=4, weights=uniform; total time=   0.0s\n",
      "[CV] END algorithm=brute, leaf_size=10, metric=euclidean, p=2, weights=uniform; total time=   0.0s\n",
      "[CV] END algorithm=brute, leaf_size=10, metric=euclidean, p=2, weights=uniform; total time=   0.0s\n",
      "[CV] END algorithm=brute, leaf_size=10, metric=euclidean, p=2, weights=uniform; total time=   0.0s\n",
      "[CV] END algorithm=brute, leaf_size=10, metric=euclidean, p=2, weights=uniform; total time=   0.0s\n",
      "[CV] END algorithm=brute, leaf_size=10, metric=euclidean, p=2, weights=uniform; total time=   0.0s\n",
      "[CV] END algorithm=brute, leaf_size=50, metric=euclidean, p=4, weights=uniform; total time=   0.0s\n",
      "[CV] END algorithm=brute, leaf_size=50, metric=euclidean, p=4, weights=uniform; total time=   0.0s\n",
      "[CV] END algorithm=brute, leaf_size=50, metric=euclidean, p=4, weights=uniform; total time=   0.0s\n",
      "[CV] END algorithm=brute, leaf_size=50, metric=euclidean, p=4, weights=uniform; total time=   0.0s\n",
      "[CV] END algorithm=brute, leaf_size=50, metric=euclidean, p=4, weights=uniform; total time=   0.0s\n",
      "[CV] END algorithm=ball_tree, leaf_size=70, metric=euclidean, p=4, weights=uniform; total time=   0.0s\n",
      "[CV] END algorithm=ball_tree, leaf_size=70, metric=euclidean, p=4, weights=uniform; total time=   0.0s\n"
     ]
    },
    {
     "name": "stdout",
     "output_type": "stream",
     "text": [
      "[CV] END algorithm=ball_tree, leaf_size=70, metric=euclidean, p=4, weights=uniform; total time=   0.0s\n",
      "[CV] END algorithm=ball_tree, leaf_size=70, metric=euclidean, p=4, weights=uniform; total time=   0.0s\n",
      "[CV] END algorithm=ball_tree, leaf_size=70, metric=euclidean, p=4, weights=uniform; total time=   0.0s\n",
      "[CV] END algorithm=kd_tree, leaf_size=70, metric=manhattan, p=3, weights=distance; total time=   0.0s\n",
      "[CV] END algorithm=kd_tree, leaf_size=70, metric=manhattan, p=3, weights=distance; total time=   0.0s\n",
      "[CV] END algorithm=kd_tree, leaf_size=70, metric=manhattan, p=3, weights=distance; total time=   0.0s\n",
      "[CV] END algorithm=kd_tree, leaf_size=70, metric=manhattan, p=3, weights=distance; total time=   0.0s\n",
      "[CV] END algorithm=kd_tree, leaf_size=70, metric=manhattan, p=3, weights=distance; total time=   0.0s\n",
      "[CV] END algorithm=kd_tree, leaf_size=30, metric=minkowski, p=3, weights=uniform; total time=   0.0s\n",
      "[CV] END algorithm=kd_tree, leaf_size=30, metric=minkowski, p=3, weights=uniform; total time=   0.0s\n",
      "[CV] END algorithm=kd_tree, leaf_size=30, metric=minkowski, p=3, weights=uniform; total time=   0.0s\n",
      "[CV] END algorithm=kd_tree, leaf_size=30, metric=minkowski, p=3, weights=uniform; total time=   0.0s\n",
      "[CV] END algorithm=kd_tree, leaf_size=30, metric=minkowski, p=3, weights=uniform; total time=   0.0s\n",
      "[CV] END algorithm=brute, leaf_size=70, metric=euclidean, p=1, weights=uniform; total time=   0.0s\n",
      "[CV] END algorithm=brute, leaf_size=70, metric=euclidean, p=1, weights=uniform; total time=   0.0s\n",
      "[CV] END algorithm=brute, leaf_size=70, metric=euclidean, p=1, weights=uniform; total time=   0.0s\n",
      "[CV] END algorithm=brute, leaf_size=70, metric=euclidean, p=1, weights=uniform; total time=   0.0s\n",
      "[CV] END algorithm=brute, leaf_size=70, metric=euclidean, p=1, weights=uniform; total time=   0.0s\n",
      "[CV] END algorithm=kd_tree, leaf_size=10, metric=manhattan, p=3, weights=uniform; total time=   0.0s\n",
      "[CV] END algorithm=kd_tree, leaf_size=10, metric=manhattan, p=3, weights=uniform; total time=   0.0s\n",
      "[CV] END algorithm=kd_tree, leaf_size=10, metric=manhattan, p=3, weights=uniform; total time=   0.0s\n",
      "[CV] END algorithm=kd_tree, leaf_size=10, metric=manhattan, p=3, weights=uniform; total time=   0.0s\n",
      "[CV] END algorithm=kd_tree, leaf_size=10, metric=manhattan, p=3, weights=uniform; total time=   0.0s\n",
      "[CV] END algorithm=brute, leaf_size=70, metric=manhattan, p=1, weights=distance; total time=   0.0s\n",
      "[CV] END algorithm=brute, leaf_size=70, metric=manhattan, p=1, weights=distance; total time=   0.0s\n",
      "[CV] END algorithm=brute, leaf_size=70, metric=manhattan, p=1, weights=distance; total time=   0.0s\n",
      "[CV] END algorithm=brute, leaf_size=70, metric=manhattan, p=1, weights=distance; total time=   0.0s\n",
      "[CV] END algorithm=brute, leaf_size=70, metric=manhattan, p=1, weights=distance; total time=   0.0s\n",
      "[CV] END algorithm=brute, leaf_size=30, metric=minkowski, p=4, weights=uniform; total time=   0.0s\n",
      "[CV] END algorithm=brute, leaf_size=30, metric=minkowski, p=4, weights=uniform; total time=   0.0s\n",
      "[CV] END algorithm=brute, leaf_size=30, metric=minkowski, p=4, weights=uniform; total time=   0.0s\n",
      "[CV] END algorithm=brute, leaf_size=30, metric=minkowski, p=4, weights=uniform; total time=   0.0s\n",
      "[CV] END algorithm=brute, leaf_size=30, metric=minkowski, p=4, weights=uniform; total time=   0.0s\n",
      "[CV] END algorithm=kd_tree, leaf_size=50, metric=euclidean, p=5, weights=uniform; total time=   0.0s\n",
      "[CV] END algorithm=kd_tree, leaf_size=50, metric=euclidean, p=5, weights=uniform; total time=   0.0s\n",
      "[CV] END algorithm=kd_tree, leaf_size=50, metric=euclidean, p=5, weights=uniform; total time=   0.0s\n",
      "[CV] END algorithm=kd_tree, leaf_size=50, metric=euclidean, p=5, weights=uniform; total time=   0.0s\n",
      "[CV] END algorithm=kd_tree, leaf_size=50, metric=euclidean, p=5, weights=uniform; total time=   0.0s\n",
      "[CV] END algorithm=ball_tree, leaf_size=10, metric=euclidean, p=4, weights=uniform; total time=   0.0s\n",
      "[CV] END algorithm=ball_tree, leaf_size=10, metric=euclidean, p=4, weights=uniform; total time=   0.0s\n",
      "[CV] END algorithm=ball_tree, leaf_size=10, metric=euclidean, p=4, weights=uniform; total time=   0.0s\n",
      "[CV] END algorithm=ball_tree, leaf_size=10, metric=euclidean, p=4, weights=uniform; total time=   0.0s\n",
      "[CV] END algorithm=ball_tree, leaf_size=10, metric=euclidean, p=4, weights=uniform; total time=   0.0s\n",
      "[CV] END algorithm=brute, leaf_size=15, metric=minkowski, p=4, weights=uniform; total time=   0.0s\n",
      "[CV] END algorithm=brute, leaf_size=15, metric=minkowski, p=4, weights=uniform; total time=   0.0s\n",
      "[CV] END algorithm=brute, leaf_size=15, metric=minkowski, p=4, weights=uniform; total time=   0.0s\n",
      "[CV] END algorithm=brute, leaf_size=15, metric=minkowski, p=4, weights=uniform; total time=   0.0s\n",
      "[CV] END algorithm=brute, leaf_size=15, metric=minkowski, p=4, weights=uniform; total time=   0.0s\n",
      "[CV] END algorithm=brute, leaf_size=70, metric=minkowski, p=1, weights=uniform; total time=   0.0s\n",
      "[CV] END algorithm=brute, leaf_size=70, metric=minkowski, p=1, weights=uniform; total time=   0.0s\n",
      "[CV] END algorithm=brute, leaf_size=70, metric=minkowski, p=1, weights=uniform; total time=   0.0s\n",
      "[CV] END algorithm=brute, leaf_size=70, metric=minkowski, p=1, weights=uniform; total time=   0.0s\n",
      "[CV] END algorithm=brute, leaf_size=70, metric=minkowski, p=1, weights=uniform; total time=   0.0s\n",
      "[CV] END algorithm=ball_tree, leaf_size=70, metric=minkowski, p=1, weights=distance; total time=   0.0s\n",
      "[CV] END algorithm=ball_tree, leaf_size=70, metric=minkowski, p=1, weights=distance; total time=   0.0s\n",
      "[CV] END algorithm=ball_tree, leaf_size=70, metric=minkowski, p=1, weights=distance; total time=   0.0s\n",
      "[CV] END algorithm=ball_tree, leaf_size=70, metric=minkowski, p=1, weights=distance; total time=   0.0s\n",
      "[CV] END algorithm=ball_tree, leaf_size=70, metric=minkowski, p=1, weights=distance; total time=   0.0s\n",
      "[CV] END algorithm=ball_tree, leaf_size=50, metric=minkowski, p=1, weights=uniform; total time=   0.0s\n",
      "[CV] END algorithm=ball_tree, leaf_size=50, metric=minkowski, p=1, weights=uniform; total time=   0.0s\n",
      "[CV] END algorithm=ball_tree, leaf_size=50, metric=minkowski, p=1, weights=uniform; total time=   0.0s\n",
      "[CV] END algorithm=ball_tree, leaf_size=50, metric=minkowski, p=1, weights=uniform; total time=   0.0s\n",
      "[CV] END algorithm=ball_tree, leaf_size=50, metric=minkowski, p=1, weights=uniform; total time=   0.0s\n",
      "[CV] END algorithm=kd_tree, leaf_size=40, metric=euclidean, p=5, weights=uniform; total time=   0.0s\n",
      "[CV] END algorithm=kd_tree, leaf_size=40, metric=euclidean, p=5, weights=uniform; total time=   0.0s\n",
      "[CV] END algorithm=kd_tree, leaf_size=40, metric=euclidean, p=5, weights=uniform; total time=   0.0s\n",
      "[CV] END algorithm=kd_tree, leaf_size=40, metric=euclidean, p=5, weights=uniform; total time=   0.0s\n",
      "[CV] END algorithm=kd_tree, leaf_size=40, metric=euclidean, p=5, weights=uniform; total time=   0.0s\n",
      "[CV] END algorithm=ball_tree, leaf_size=40, metric=manhattan, p=4, weights=uniform; total time=   0.0s\n",
      "[CV] END algorithm=ball_tree, leaf_size=40, metric=manhattan, p=4, weights=uniform; total time=   0.0s\n",
      "[CV] END algorithm=ball_tree, leaf_size=40, metric=manhattan, p=4, weights=uniform; total time=   0.0s\n",
      "[CV] END algorithm=ball_tree, leaf_size=40, metric=manhattan, p=4, weights=uniform; total time=   0.0s\n",
      "[CV] END algorithm=ball_tree, leaf_size=40, metric=manhattan, p=4, weights=uniform; total time=   0.0s\n",
      "[CV] END algorithm=ball_tree, leaf_size=10, metric=manhattan, p=5, weights=uniform; total time=   0.0s\n",
      "[CV] END algorithm=ball_tree, leaf_size=10, metric=manhattan, p=5, weights=uniform; total time=   0.0s\n",
      "[CV] END algorithm=ball_tree, leaf_size=10, metric=manhattan, p=5, weights=uniform; total time=   0.0s\n",
      "[CV] END algorithm=ball_tree, leaf_size=10, metric=manhattan, p=5, weights=uniform; total time=   0.0s\n",
      "[CV] END algorithm=ball_tree, leaf_size=10, metric=manhattan, p=5, weights=uniform; total time=   0.0s\n",
      "[CV] END algorithm=kd_tree, leaf_size=30, metric=euclidean, p=5, weights=uniform; total time=   0.0s\n",
      "[CV] END algorithm=kd_tree, leaf_size=30, metric=euclidean, p=5, weights=uniform; total time=   0.0s\n",
      "[CV] END algorithm=kd_tree, leaf_size=30, metric=euclidean, p=5, weights=uniform; total time=   0.0s\n",
      "[CV] END algorithm=kd_tree, leaf_size=30, metric=euclidean, p=5, weights=uniform; total time=   0.0s\n",
      "[CV] END algorithm=kd_tree, leaf_size=30, metric=euclidean, p=5, weights=uniform; total time=   0.0s\n"
     ]
    },
    {
     "name": "stdout",
     "output_type": "stream",
     "text": [
      "[CV] END algorithm=kd_tree, leaf_size=10, metric=manhattan, p=5, weights=distance; total time=   0.0s\n",
      "[CV] END algorithm=kd_tree, leaf_size=10, metric=manhattan, p=5, weights=distance; total time=   0.0s\n",
      "[CV] END algorithm=kd_tree, leaf_size=10, metric=manhattan, p=5, weights=distance; total time=   0.0s\n",
      "[CV] END algorithm=kd_tree, leaf_size=10, metric=manhattan, p=5, weights=distance; total time=   0.0s\n",
      "[CV] END algorithm=kd_tree, leaf_size=10, metric=manhattan, p=5, weights=distance; total time=   0.0s\n",
      "[CV] END algorithm=brute, leaf_size=15, metric=minkowski, p=1, weights=uniform; total time=   0.0s\n",
      "[CV] END algorithm=brute, leaf_size=15, metric=minkowski, p=1, weights=uniform; total time=   0.0s\n",
      "[CV] END algorithm=brute, leaf_size=15, metric=minkowski, p=1, weights=uniform; total time=   0.0s\n",
      "[CV] END algorithm=brute, leaf_size=15, metric=minkowski, p=1, weights=uniform; total time=   0.0s\n",
      "[CV] END algorithm=brute, leaf_size=15, metric=minkowski, p=1, weights=uniform; total time=   0.0s\n",
      "[CV] END algorithm=kd_tree, leaf_size=10, metric=minkowski, p=5, weights=distance; total time=   0.0s\n",
      "[CV] END algorithm=kd_tree, leaf_size=10, metric=minkowski, p=5, weights=distance; total time=   0.0s\n",
      "[CV] END algorithm=kd_tree, leaf_size=10, metric=minkowski, p=5, weights=distance; total time=   0.0s\n",
      "[CV] END algorithm=kd_tree, leaf_size=10, metric=minkowski, p=5, weights=distance; total time=   0.0s\n",
      "[CV] END algorithm=kd_tree, leaf_size=10, metric=minkowski, p=5, weights=distance; total time=   0.0s\n",
      "[CV] END algorithm=kd_tree, leaf_size=10, metric=minkowski, p=3, weights=distance; total time=   0.0s\n",
      "[CV] END algorithm=kd_tree, leaf_size=10, metric=minkowski, p=3, weights=distance; total time=   0.0s\n",
      "[CV] END algorithm=kd_tree, leaf_size=10, metric=minkowski, p=3, weights=distance; total time=   0.0s\n",
      "[CV] END algorithm=kd_tree, leaf_size=10, metric=minkowski, p=3, weights=distance; total time=   0.0s\n",
      "[CV] END algorithm=kd_tree, leaf_size=10, metric=minkowski, p=3, weights=distance; total time=   0.0s\n",
      "[CV] END algorithm=brute, leaf_size=50, metric=euclidean, p=2, weights=uniform; total time=   0.0s\n",
      "[CV] END algorithm=brute, leaf_size=50, metric=euclidean, p=2, weights=uniform; total time=   0.0s\n",
      "[CV] END algorithm=brute, leaf_size=50, metric=euclidean, p=2, weights=uniform; total time=   0.0s\n",
      "[CV] END algorithm=brute, leaf_size=50, metric=euclidean, p=2, weights=uniform; total time=   0.0s\n",
      "[CV] END algorithm=brute, leaf_size=50, metric=euclidean, p=2, weights=uniform; total time=   0.0s\n",
      "[CV] END algorithm=ball_tree, leaf_size=15, metric=euclidean, p=1, weights=uniform; total time=   0.0s\n",
      "[CV] END algorithm=ball_tree, leaf_size=15, metric=euclidean, p=1, weights=uniform; total time=   0.0s\n",
      "[CV] END algorithm=ball_tree, leaf_size=15, metric=euclidean, p=1, weights=uniform; total time=   0.0s\n",
      "[CV] END algorithm=ball_tree, leaf_size=15, metric=euclidean, p=1, weights=uniform; total time=   0.0s\n",
      "[CV] END algorithm=ball_tree, leaf_size=15, metric=euclidean, p=1, weights=uniform; total time=   0.0s\n",
      "[CV] END algorithm=ball_tree, leaf_size=15, metric=euclidean, p=5, weights=uniform; total time=   0.0s\n",
      "[CV] END algorithm=ball_tree, leaf_size=15, metric=euclidean, p=5, weights=uniform; total time=   0.0s\n",
      "[CV] END algorithm=ball_tree, leaf_size=15, metric=euclidean, p=5, weights=uniform; total time=   0.0s\n",
      "[CV] END algorithm=ball_tree, leaf_size=15, metric=euclidean, p=5, weights=uniform; total time=   0.0s\n",
      "[CV] END algorithm=ball_tree, leaf_size=15, metric=euclidean, p=5, weights=uniform; total time=   0.0s\n",
      "[CV] END algorithm=kd_tree, leaf_size=70, metric=minkowski, p=2, weights=distance; total time=   0.0s\n",
      "[CV] END algorithm=kd_tree, leaf_size=70, metric=minkowski, p=2, weights=distance; total time=   0.0s\n",
      "[CV] END algorithm=kd_tree, leaf_size=70, metric=minkowski, p=2, weights=distance; total time=   0.0s\n",
      "[CV] END algorithm=kd_tree, leaf_size=70, metric=minkowski, p=2, weights=distance; total time=   0.0s\n",
      "[CV] END algorithm=kd_tree, leaf_size=70, metric=minkowski, p=2, weights=distance; total time=   0.0s\n",
      "[CV] END algorithm=ball_tree, leaf_size=30, metric=euclidean, p=2, weights=distance; total time=   0.0s\n",
      "[CV] END algorithm=ball_tree, leaf_size=30, metric=euclidean, p=2, weights=distance; total time=   0.0s\n",
      "[CV] END algorithm=ball_tree, leaf_size=30, metric=euclidean, p=2, weights=distance; total time=   0.0s\n",
      "[CV] END algorithm=ball_tree, leaf_size=30, metric=euclidean, p=2, weights=distance; total time=   0.0s\n",
      "[CV] END algorithm=ball_tree, leaf_size=30, metric=euclidean, p=2, weights=distance; total time=   0.0s\n"
     ]
    },
    {
     "data": {
      "text/plain": [
       "RandomizedSearchCV(cv=KFold(n_splits=5, random_state=5, shuffle=True),\n",
       "                   estimator=KNeighborsClassifier(), n_iter=100,\n",
       "                   param_distributions={'algorithm': ['kd_tree', 'ball_tree',\n",
       "                                                      'brute'],\n",
       "                                        'leaf_size': [10, 15, 30, 40, 50, 70],\n",
       "                                        'metric': ['minkowski', 'manhattan',\n",
       "                                                   'euclidean'],\n",
       "                                        'p': [1, 2, 3, 4, 5],\n",
       "                                        'weights': ['uniform', 'distance']},\n",
       "                   scoring='accuracy', verbose=2)"
      ]
     },
     "execution_count": 39,
     "metadata": {},
     "output_type": "execute_result"
    }
   ],
   "source": [
    "rv = RandomizedSearchCV( estimator = clf,\n",
    "                       param_distributions = params,\n",
    "                        cv = kf,\n",
    "                       scoring = 'accuracy',\n",
    "                       n_iter = 100,\n",
    "                       verbose = 2)\n",
    "\n",
    "rv.fit(x, y)"
   ]
  },
  {
   "cell_type": "code",
   "execution_count": 40,
   "id": "53c384cf",
   "metadata": {},
   "outputs": [
    {
     "data": {
      "text/plain": [
       "{'weights': 'distance',\n",
       " 'p': 5,\n",
       " 'metric': 'minkowski',\n",
       " 'leaf_size': 30,\n",
       " 'algorithm': 'ball_tree'}"
      ]
     },
     "execution_count": 40,
     "metadata": {},
     "output_type": "execute_result"
    }
   ],
   "source": [
    "rv.best_params_"
   ]
  },
  {
   "cell_type": "code",
   "execution_count": 44,
   "id": "46b08852",
   "metadata": {},
   "outputs": [
    {
     "data": {
      "text/plain": [
       "KNeighborsClassifier(algorithm='ball_tree', p=5, weights='distance')"
      ]
     },
     "execution_count": 44,
     "metadata": {},
     "output_type": "execute_result"
    }
   ],
   "source": [
    "rv.best_estimator_"
   ]
  },
  {
   "cell_type": "raw",
   "id": "e5956848",
   "metadata": {},
   "source": []
  },
  {
   "cell_type": "code",
   "execution_count": 45,
   "id": "1ddd9346",
   "metadata": {},
   "outputs": [
    {
     "data": {
      "text/plain": [
       "0.9733333333333334"
      ]
     },
     "execution_count": 45,
     "metadata": {},
     "output_type": "execute_result"
    }
   ],
   "source": [
    "rv.best_score_"
   ]
  },
  {
   "cell_type": "code",
   "execution_count": null,
   "id": "89af1f82",
   "metadata": {},
   "outputs": [],
   "source": []
  }
 ],
 "metadata": {
  "kernelspec": {
   "display_name": "Python 3 (ipykernel)",
   "language": "python",
   "name": "python3"
  },
  "language_info": {
   "codemirror_mode": {
    "name": "ipython",
    "version": 3
   },
   "file_extension": ".py",
   "mimetype": "text/x-python",
   "name": "python",
   "nbconvert_exporter": "python",
   "pygments_lexer": "ipython3",
   "version": "3.9.7"
  }
 },
 "nbformat": 4,
 "nbformat_minor": 5
}
